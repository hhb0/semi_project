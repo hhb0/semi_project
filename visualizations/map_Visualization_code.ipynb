{
 "cells": [
  {
   "cell_type": "code",
   "execution_count": null,
   "id": "bb2202e6-0cc7-4659-a6ee-c734444a2631",
   "metadata": {
    "tags": []
   },
   "outputs": [],
   "source": [
    "# 부산 지도 만들기\n",
    "busan_map =folium.Map(location=[35.17944,129.07556], tiles='Stamen Terrain', zoom_start=14)\n",
    "\n",
    "busan_map.save('./busan.html')\n",
    "\n",
    "\n",
    "# 시장 리스트를 데이터 프레임으로 변환\n",
    "market_high_df = pd.read_excel('./data/project/market_list_high.xlsx', engine = \"openpyxl\")\n",
    "market_low_df = pd.read_excel('./data/project/market_list_low.xlsx', engine = \"openpyxl\")\n",
    "subway_df = pd.read_excel('./data/project/market_subway_list.xlsx', engine = \"openpyxl\")\n",
    "top_20_df = pd.read_excel('./data/project/Busan_location.xlsx', engine = \"openpyxl\")\n",
    "\n",
    "\n",
    "# 시장, 지하철 위치 정보를 마커로 표시, top20 표시\n",
    "for name, lat, lng in zip(market_high_df.시장명, market_high_df.위도, market_high_df.경도):\n",
    "    folium.Marker([lat, lng], popup=folium.Popup(name, min_width=80, max_width=150),\n",
    "                  icon=folium.Icon(color='pink',icon='basket-shopping', prefix='fa')).add_to(busan_map)\n",
    "\n",
    "for name, lat, lng in zip(market_low_df.시장명, market_low_df.위도, market_low_df.경도):\n",
    "    folium.Marker([lat, lng], popup=folium.Popup(name, min_width=80, max_width=150),\n",
    "                  icon=folium.Icon(color='lightgray',icon='basket-shopping', prefix='fa')).add_to(busan_map)\n",
    "\n",
    "for name, lat, lng in zip(subway_df.역명, subway_df.위도, subway_df.경도):\n",
    "    folium.Marker([lat, lng], popup=folium.Popup(name, min_width=50, max_width=100),\n",
    "                  icon=folium.Icon(color='lightgreen',icon='train-subway', prefix='fa')).add_to(busan_map)\n",
    "\n",
    "for name, lat, lng in zip(top_20_df.시장명, top_20_df.위도, top_20_df.경도):\n",
    "    folium.CircleMarker([lat, lng], popup=folium.Popup(name, min_width=80, max_width=100),\n",
    "                  radius=10, color='orange').add_to(busan_map)\n",
    "\n",
    "\n",
    "#구역별 인구\n",
    "population_df = pd.read_csv('./data/총_구·군 인구.csv', encoding='utf-8-sig')\n",
    "population_df['SIG_KOR_NM'] = population_df['SIG_KOR_NM'].astype(str)\n",
    "\n",
    "\n",
    "#구역 경계\n",
    "geo_path = './busan.json' \n",
    "try:\n",
    "    geo_data = json.load(open(geo_path, encoding='utf-8'))\n",
    "except:\n",
    "    geo_data = json.load(open(geo_path, encoding='utf-8-sig')) \n",
    "\n",
    "\n",
    "#Choropleth 시각화\n",
    "folium.Choropleth(\n",
    "    geo_data=geo_data,\n",
    "    data=population_df,\n",
    "    key_on='feature.properties.SIG_KOR_NM',\n",
    "    columns=['SIG_KOR_NM', 'total_population'],\n",
    "    fill_color='YlGnBu',\n",
    "    legend_name='부산광역시 구,군 인구',\n",
    ").add_to(busan_map)    \n",
    "    \n",
    "    \n",
    "    \n",
    "busan_map.save('./busan_market_total_diff.html')"
   ]
  }
 ],
 "metadata": {
  "kernelspec": {
   "display_name": "Python 3 (ipykernel)",
   "language": "python",
   "name": "python3"
  },
  "language_info": {
   "codemirror_mode": {
    "name": "ipython",
    "version": 3
   },
   "file_extension": ".py",
   "mimetype": "text/x-python",
   "name": "python",
   "nbconvert_exporter": "python",
   "pygments_lexer": "ipython3",
   "version": "3.11.3"
  }
 },
 "nbformat": 4,
 "nbformat_minor": 5
}
